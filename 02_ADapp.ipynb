{
  "cells": [
    {
      "cell_type": "markdown",
      "source": [
        "## Turning Your Model into an Online Application"
      ],
      "metadata": {
        "id": "yI8dDaGF2Xex"
      }
    },
    {
      "cell_type": "markdown",
      "source": [
        "Now we have our parameters and model architecture, we can create an Online Application where someone can upload an MR image to see whether the scan might be of someone with Alzheimer's Disease. A task that should be left to doctors, but its fun to experiment with.."
      ],
      "metadata": {
        "id": "PpwVG6HZ2gZN"
      }
    },
    {
      "cell_type": "code",
      "execution_count": 2,
      "metadata": {
        "id": "2sFjyG3jubFu"
      },
      "outputs": [],
      "source": [
        "# hide\n",
        "# ! [ -e /content ] && pip install -Uqq fastbook\n",
        "# import fastbook\n",
        "# fastbook.setup_book()\n",
        "#hide\n",
        "# from fastbook import *\n",
        "# from fastai.vision.widgets import *\n",
        "\n",
        "# !pip install voila\n",
        "# !jupyter serverextension enable --sys-prefix voila"
      ]
    },
    {
      "cell_type": "markdown",
      "metadata": {
        "id": "ZPfLjfLaubGF"
      },
      "source": [
        "### Creating a Notebook App from the Model"
      ]
    },
    {
      "cell_type": "markdown",
      "source": [
        "We are going to build our web app within this Jupyter Notebook!"
      ],
      "metadata": {
        "id": "hqsOE2PD7kEb"
      }
    },
    {
      "cell_type": "code",
      "source": [
        "# Load in our AD MRI Learner\n",
        "learn_inf = load_learner('/content/gdrive/MyDrive/FastAI/AD-learner.pkl')\n",
        "\n",
        "# Initialize our 'Upload' button\n",
        "btn_upload = widgets.FileUpload()\n",
        "\n",
        "# img = PILImage.create(btn_upload.data[-1])\n",
        "\n",
        "# Use an output widget to display the image\n",
        "#out_pl = widgets.Output()\n",
        "#out_pl.clear_output()\n",
        "#with out_pl: display(img.to_thumb(128,128))\n",
        "\n",
        "# Get our predictions\n",
        "#pred,pred_idx,probs = learn_inf.predict(img)\n",
        "#lbl_pred = widgets.Label()\n",
        "\n",
        "# Use a Label to display them\n",
        "#lbl_pred.value = f'Prediction: {pred}; Probability: {probs[pred_idx]:.03f}'\n",
        "\n",
        "# Now we need a button for classification\n",
        "#btn_run = widgets.Button(description='Classify')\n",
        "\n",
        "# We'll also need a click event handler; that is, a function that will be called\n",
        "# when it's pressed. We can just copy over the lines of code from above\n",
        "def on_click_classify(change):\n",
        "    img = PILImage.create(btn_upload.data[-1])\n",
        "    out_pl.clear_output()\n",
        "    with out_pl: display(img.to_thumb(128,128))\n",
        "    pred,pred_idx,probs = learn_inf.predict(img)\n",
        "    lbl_pred.value = f'Prediction: {pred}; Probability: {probs[pred_idx]:.04f}'\n",
        "\n",
        "btn_run.on_click(on_click_classify)\n",
        "\n",
        "# Putting back btn_upload to a widget for next cell\n",
        "btn_upload = widgets.FileUpload()\n",
        "\n",
        "# VBox It\n",
        "VBox([widgets.Label('Upload your brain!'),\n",
        "      btn_upload, btn_run, out_pl, lbl_pred])"
      ],
      "metadata": {
        "colab": {
          "base_uri": "https://localhost:8080/",
          "height": 254,
          "referenced_widgets": [
            "195dc4abc60941378ad40eb56874ed15",
            "5f9b467b65224c11a426c0c092030ae9",
            "5059004f47ac4cddb6b245bcf49996d6",
            "93d38a3cf9df45958c3339705ea75467",
            "36547f3fc7274a28bbe4a8ddc861d798",
            "4be2f2a6a8244b3cbb786ea97bef29be",
            "d4e8da8d10a843838b15a1d0d3517f54",
            "e5977beb39204fc6a4849d8ef2bec556",
            "d948a3be2f0145e8a038f9101270134a",
            "e627d82791234adfb8ae2e8f911daa2b",
            "dbdf5d7e17e84f788919d8407a0b85ff",
            "45067aa383004d3ebad843f4fe021765",
            "e498a6e6f3e1494da2b9bc9a30f7c138",
            "ecc372823e89416a8a5ccc708b82c463",
            "83d9e565d6f140c78632b470a8602b6c",
            "3f5829fdfea649e68cffd14a3f11e017"
          ]
        },
        "id": "NB5NcUE5C6Gs",
        "outputId": "d3f930ff-71e9-468c-ed7a-529b4de4889a"
      },
      "execution_count": 28,
      "outputs": [
        {
          "output_type": "display_data",
          "data": {
            "text/plain": [
              "VBox(children=(Label(value='Upload your brain!'), FileUpload(value={}, description='Upload'), Button(descripti…"
            ],
            "application/vnd.jupyter.widget-view+json": {
              "version_major": 2,
              "version_minor": 0,
              "model_id": "195dc4abc60941378ad40eb56874ed15"
            }
          },
          "metadata": {}
        }
      ]
    }
  ],
  "metadata": {
    "jupytext": {
      "split_at_heading": true
    },
    "kernelspec": {
      "display_name": "Python 3",
      "language": "python",
      "name": "python3"
    },
    "colab": {
      "provenance": []
    },
    "widgets": {
      "application/vnd.jupyter.widget-state+json": {
        "195dc4abc60941378ad40eb56874ed15": {
          "model_module": "@jupyter-widgets/controls",
          "model_name": "VBoxModel",
          "model_module_version": "1.5.0",
          "state": {
            "_dom_classes": [],
            "_model_module": "@jupyter-widgets/controls",
            "_model_module_version": "1.5.0",
            "_model_name": "VBoxModel",
            "_view_count": null,
            "_view_module": "@jupyter-widgets/controls",
            "_view_module_version": "1.5.0",
            "_view_name": "VBoxView",
            "box_style": "",
            "children": [
              "IPY_MODEL_5f9b467b65224c11a426c0c092030ae9",
              "IPY_MODEL_5059004f47ac4cddb6b245bcf49996d6",
              "IPY_MODEL_93d38a3cf9df45958c3339705ea75467",
              "IPY_MODEL_36547f3fc7274a28bbe4a8ddc861d798",
              "IPY_MODEL_4be2f2a6a8244b3cbb786ea97bef29be"
            ],
            "layout": "IPY_MODEL_d4e8da8d10a843838b15a1d0d3517f54"
          }
        },
        "5f9b467b65224c11a426c0c092030ae9": {
          "model_module": "@jupyter-widgets/controls",
          "model_name": "LabelModel",
          "model_module_version": "1.5.0",
          "state": {
            "_dom_classes": [],
            "_model_module": "@jupyter-widgets/controls",
            "_model_module_version": "1.5.0",
            "_model_name": "LabelModel",
            "_view_count": null,
            "_view_module": "@jupyter-widgets/controls",
            "_view_module_version": "1.5.0",
            "_view_name": "LabelView",
            "description": "",
            "description_tooltip": null,
            "layout": "IPY_MODEL_e5977beb39204fc6a4849d8ef2bec556",
            "placeholder": "​",
            "style": "IPY_MODEL_d948a3be2f0145e8a038f9101270134a",
            "value": "Upload your brain!"
          }
        },
        "5059004f47ac4cddb6b245bcf49996d6": {
          "model_module": "@jupyter-widgets/controls",
          "model_name": "FileUploadModel",
          "model_module_version": "1.5.0",
          "state": {
            "_counter": 0,
            "_dom_classes": [],
            "_model_module": "@jupyter-widgets/controls",
            "_model_module_version": "1.5.0",
            "_model_name": "FileUploadModel",
            "_view_count": null,
            "_view_module": "@jupyter-widgets/controls",
            "_view_module_version": "1.5.0",
            "_view_name": "FileUploadView",
            "accept": "",
            "button_style": "",
            "data": [],
            "description": "Upload",
            "description_tooltip": null,
            "disabled": false,
            "error": "",
            "icon": "upload",
            "layout": "IPY_MODEL_e627d82791234adfb8ae2e8f911daa2b",
            "metadata": [],
            "multiple": false,
            "style": "IPY_MODEL_dbdf5d7e17e84f788919d8407a0b85ff"
          }
        },
        "93d38a3cf9df45958c3339705ea75467": {
          "model_module": "@jupyter-widgets/controls",
          "model_name": "ButtonModel",
          "model_module_version": "1.5.0",
          "state": {
            "_dom_classes": [],
            "_model_module": "@jupyter-widgets/controls",
            "_model_module_version": "1.5.0",
            "_model_name": "ButtonModel",
            "_view_count": null,
            "_view_module": "@jupyter-widgets/controls",
            "_view_module_version": "1.5.0",
            "_view_name": "ButtonView",
            "button_style": "",
            "description": "Classify",
            "disabled": false,
            "icon": "",
            "layout": "IPY_MODEL_45067aa383004d3ebad843f4fe021765",
            "style": "IPY_MODEL_e498a6e6f3e1494da2b9bc9a30f7c138",
            "tooltip": ""
          }
        },
        "36547f3fc7274a28bbe4a8ddc861d798": {
          "model_module": "@jupyter-widgets/output",
          "model_name": "OutputModel",
          "model_module_version": "1.0.0",
          "state": {
            "_dom_classes": [],
            "_model_module": "@jupyter-widgets/output",
            "_model_module_version": "1.0.0",
            "_model_name": "OutputModel",
            "_view_count": null,
            "_view_module": "@jupyter-widgets/output",
            "_view_module_version": "1.0.0",
            "_view_name": "OutputView",
            "layout": "IPY_MODEL_3f5829fdfea649e68cffd14a3f11e017",
            "msg_id": "",
            "outputs": [
              {
                "output_type": "display_data",
                "data": {
                  "text/plain": "<PIL.Image.Image image mode=RGB size=128x109>",
                  "image/png": "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\n"
                },
                "metadata": {}
              }
            ]
          }
        },
        "4be2f2a6a8244b3cbb786ea97bef29be": {
          "model_module": "@jupyter-widgets/controls",
          "model_name": "LabelModel",
          "model_module_version": "1.5.0",
          "state": {
            "_dom_classes": [],
            "_model_module": "@jupyter-widgets/controls",
            "_model_module_version": "1.5.0",
            "_model_name": "LabelModel",
            "_view_count": null,
            "_view_module": "@jupyter-widgets/controls",
            "_view_module_version": "1.5.0",
            "_view_name": "LabelView",
            "description": "",
            "description_tooltip": null,
            "layout": "IPY_MODEL_ecc372823e89416a8a5ccc708b82c463",
            "placeholder": "​",
            "style": "IPY_MODEL_83d9e565d6f140c78632b470a8602b6c",
            "value": "Prediction: AD; Probability: 0.9760"
          }
        },
        "d4e8da8d10a843838b15a1d0d3517f54": {
          "model_module": "@jupyter-widgets/base",
          "model_name": "LayoutModel",
          "model_module_version": "1.2.0",
          "state": {
            "_model_module": "@jupyter-widgets/base",
            "_model_module_version": "1.2.0",
            "_model_name": "LayoutModel",
            "_view_count": null,
            "_view_module": "@jupyter-widgets/base",
            "_view_module_version": "1.2.0",
            "_view_name": "LayoutView",
            "align_content": null,
            "align_items": null,
            "align_self": null,
            "border": null,
            "bottom": null,
            "display": null,
            "flex": null,
            "flex_flow": null,
            "grid_area": null,
            "grid_auto_columns": null,
            "grid_auto_flow": null,
            "grid_auto_rows": null,
            "grid_column": null,
            "grid_gap": null,
            "grid_row": null,
            "grid_template_areas": null,
            "grid_template_columns": null,
            "grid_template_rows": null,
            "height": null,
            "justify_content": null,
            "justify_items": null,
            "left": null,
            "margin": null,
            "max_height": null,
            "max_width": null,
            "min_height": null,
            "min_width": null,
            "object_fit": null,
            "object_position": null,
            "order": null,
            "overflow": null,
            "overflow_x": null,
            "overflow_y": null,
            "padding": null,
            "right": null,
            "top": null,
            "visibility": null,
            "width": null
          }
        },
        "e5977beb39204fc6a4849d8ef2bec556": {
          "model_module": "@jupyter-widgets/base",
          "model_name": "LayoutModel",
          "model_module_version": "1.2.0",
          "state": {
            "_model_module": "@jupyter-widgets/base",
            "_model_module_version": "1.2.0",
            "_model_name": "LayoutModel",
            "_view_count": null,
            "_view_module": "@jupyter-widgets/base",
            "_view_module_version": "1.2.0",
            "_view_name": "LayoutView",
            "align_content": null,
            "align_items": null,
            "align_self": null,
            "border": null,
            "bottom": null,
            "display": null,
            "flex": null,
            "flex_flow": null,
            "grid_area": null,
            "grid_auto_columns": null,
            "grid_auto_flow": null,
            "grid_auto_rows": null,
            "grid_column": null,
            "grid_gap": null,
            "grid_row": null,
            "grid_template_areas": null,
            "grid_template_columns": null,
            "grid_template_rows": null,
            "height": null,
            "justify_content": null,
            "justify_items": null,
            "left": null,
            "margin": null,
            "max_height": null,
            "max_width": null,
            "min_height": null,
            "min_width": null,
            "object_fit": null,
            "object_position": null,
            "order": null,
            "overflow": null,
            "overflow_x": null,
            "overflow_y": null,
            "padding": null,
            "right": null,
            "top": null,
            "visibility": null,
            "width": null
          }
        },
        "d948a3be2f0145e8a038f9101270134a": {
          "model_module": "@jupyter-widgets/controls",
          "model_name": "DescriptionStyleModel",
          "model_module_version": "1.5.0",
          "state": {
            "_model_module": "@jupyter-widgets/controls",
            "_model_module_version": "1.5.0",
            "_model_name": "DescriptionStyleModel",
            "_view_count": null,
            "_view_module": "@jupyter-widgets/base",
            "_view_module_version": "1.2.0",
            "_view_name": "StyleView",
            "description_width": ""
          }
        },
        "e627d82791234adfb8ae2e8f911daa2b": {
          "model_module": "@jupyter-widgets/base",
          "model_name": "LayoutModel",
          "model_module_version": "1.2.0",
          "state": {
            "_model_module": "@jupyter-widgets/base",
            "_model_module_version": "1.2.0",
            "_model_name": "LayoutModel",
            "_view_count": null,
            "_view_module": "@jupyter-widgets/base",
            "_view_module_version": "1.2.0",
            "_view_name": "LayoutView",
            "align_content": null,
            "align_items": null,
            "align_self": null,
            "border": null,
            "bottom": null,
            "display": null,
            "flex": null,
            "flex_flow": null,
            "grid_area": null,
            "grid_auto_columns": null,
            "grid_auto_flow": null,
            "grid_auto_rows": null,
            "grid_column": null,
            "grid_gap": null,
            "grid_row": null,
            "grid_template_areas": null,
            "grid_template_columns": null,
            "grid_template_rows": null,
            "height": null,
            "justify_content": null,
            "justify_items": null,
            "left": null,
            "margin": null,
            "max_height": null,
            "max_width": null,
            "min_height": null,
            "min_width": null,
            "object_fit": null,
            "object_position": null,
            "order": null,
            "overflow": null,
            "overflow_x": null,
            "overflow_y": null,
            "padding": null,
            "right": null,
            "top": null,
            "visibility": null,
            "width": null
          }
        },
        "dbdf5d7e17e84f788919d8407a0b85ff": {
          "model_module": "@jupyter-widgets/controls",
          "model_name": "ButtonStyleModel",
          "model_module_version": "1.5.0",
          "state": {
            "_model_module": "@jupyter-widgets/controls",
            "_model_module_version": "1.5.0",
            "_model_name": "ButtonStyleModel",
            "_view_count": null,
            "_view_module": "@jupyter-widgets/base",
            "_view_module_version": "1.2.0",
            "_view_name": "StyleView",
            "button_color": null,
            "font_weight": ""
          }
        },
        "45067aa383004d3ebad843f4fe021765": {
          "model_module": "@jupyter-widgets/base",
          "model_name": "LayoutModel",
          "model_module_version": "1.2.0",
          "state": {
            "_model_module": "@jupyter-widgets/base",
            "_model_module_version": "1.2.0",
            "_model_name": "LayoutModel",
            "_view_count": null,
            "_view_module": "@jupyter-widgets/base",
            "_view_module_version": "1.2.0",
            "_view_name": "LayoutView",
            "align_content": null,
            "align_items": null,
            "align_self": null,
            "border": null,
            "bottom": null,
            "display": null,
            "flex": null,
            "flex_flow": null,
            "grid_area": null,
            "grid_auto_columns": null,
            "grid_auto_flow": null,
            "grid_auto_rows": null,
            "grid_column": null,
            "grid_gap": null,
            "grid_row": null,
            "grid_template_areas": null,
            "grid_template_columns": null,
            "grid_template_rows": null,
            "height": null,
            "justify_content": null,
            "justify_items": null,
            "left": null,
            "margin": null,
            "max_height": null,
            "max_width": null,
            "min_height": null,
            "min_width": null,
            "object_fit": null,
            "object_position": null,
            "order": null,
            "overflow": null,
            "overflow_x": null,
            "overflow_y": null,
            "padding": null,
            "right": null,
            "top": null,
            "visibility": null,
            "width": null
          }
        },
        "e498a6e6f3e1494da2b9bc9a30f7c138": {
          "model_module": "@jupyter-widgets/controls",
          "model_name": "ButtonStyleModel",
          "model_module_version": "1.5.0",
          "state": {
            "_model_module": "@jupyter-widgets/controls",
            "_model_module_version": "1.5.0",
            "_model_name": "ButtonStyleModel",
            "_view_count": null,
            "_view_module": "@jupyter-widgets/base",
            "_view_module_version": "1.2.0",
            "_view_name": "StyleView",
            "button_color": null,
            "font_weight": ""
          }
        },
        "ecc372823e89416a8a5ccc708b82c463": {
          "model_module": "@jupyter-widgets/base",
          "model_name": "LayoutModel",
          "model_module_version": "1.2.0",
          "state": {
            "_model_module": "@jupyter-widgets/base",
            "_model_module_version": "1.2.0",
            "_model_name": "LayoutModel",
            "_view_count": null,
            "_view_module": "@jupyter-widgets/base",
            "_view_module_version": "1.2.0",
            "_view_name": "LayoutView",
            "align_content": null,
            "align_items": null,
            "align_self": null,
            "border": null,
            "bottom": null,
            "display": null,
            "flex": null,
            "flex_flow": null,
            "grid_area": null,
            "grid_auto_columns": null,
            "grid_auto_flow": null,
            "grid_auto_rows": null,
            "grid_column": null,
            "grid_gap": null,
            "grid_row": null,
            "grid_template_areas": null,
            "grid_template_columns": null,
            "grid_template_rows": null,
            "height": null,
            "justify_content": null,
            "justify_items": null,
            "left": null,
            "margin": null,
            "max_height": null,
            "max_width": null,
            "min_height": null,
            "min_width": null,
            "object_fit": null,
            "object_position": null,
            "order": null,
            "overflow": null,
            "overflow_x": null,
            "overflow_y": null,
            "padding": null,
            "right": null,
            "top": null,
            "visibility": null,
            "width": null
          }
        },
        "83d9e565d6f140c78632b470a8602b6c": {
          "model_module": "@jupyter-widgets/controls",
          "model_name": "DescriptionStyleModel",
          "model_module_version": "1.5.0",
          "state": {
            "_model_module": "@jupyter-widgets/controls",
            "_model_module_version": "1.5.0",
            "_model_name": "DescriptionStyleModel",
            "_view_count": null,
            "_view_module": "@jupyter-widgets/base",
            "_view_module_version": "1.2.0",
            "_view_name": "StyleView",
            "description_width": ""
          }
        },
        "3f5829fdfea649e68cffd14a3f11e017": {
          "model_module": "@jupyter-widgets/base",
          "model_name": "LayoutModel",
          "model_module_version": "1.2.0",
          "state": {
            "_model_module": "@jupyter-widgets/base",
            "_model_module_version": "1.2.0",
            "_model_name": "LayoutModel",
            "_view_count": null,
            "_view_module": "@jupyter-widgets/base",
            "_view_module_version": "1.2.0",
            "_view_name": "LayoutView",
            "align_content": null,
            "align_items": null,
            "align_self": null,
            "border": null,
            "bottom": null,
            "display": null,
            "flex": null,
            "flex_flow": null,
            "grid_area": null,
            "grid_auto_columns": null,
            "grid_auto_flow": null,
            "grid_auto_rows": null,
            "grid_column": null,
            "grid_gap": null,
            "grid_row": null,
            "grid_template_areas": null,
            "grid_template_columns": null,
            "grid_template_rows": null,
            "height": null,
            "justify_content": null,
            "justify_items": null,
            "left": null,
            "margin": null,
            "max_height": null,
            "max_width": null,
            "min_height": null,
            "min_width": null,
            "object_fit": null,
            "object_position": null,
            "order": null,
            "overflow": null,
            "overflow_x": null,
            "overflow_y": null,
            "padding": null,
            "right": null,
            "top": null,
            "visibility": null,
            "width": null
          }
        }
      }
    }
  },
  "nbformat": 4,
  "nbformat_minor": 0
}